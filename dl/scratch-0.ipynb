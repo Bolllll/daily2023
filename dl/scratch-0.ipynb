{
 "cells": [
  {
   "cell_type": "markdown",
   "metadata": {},
   "source": [
    "# Deep learning from Scratch\n"
   ]
  },
  {
   "cell_type": "code",
   "execution_count": 9,
   "metadata": {},
   "outputs": [
    {
     "name": "stdout",
     "output_type": "stream",
     "text": [
      "<class 'int'>\n",
      "[3, 4, 5]\n",
      "[1, 2]\n",
      "Bob\n",
      "Please offer some food\n",
      "0\n",
      "1\n",
      "2\n",
      "3\n",
      "Hello Bob!\n"
     ]
    }
   ],
   "source": [
    "# chap 1: python\n",
    "# type  \n",
    "print(type(10))\n",
    "\n",
    "# array - list\n",
    "a = [1, 2, 3, 4, 5]\n",
    "print(a[2:])\n",
    "print(a[:2])\n",
    "\n",
    "# dict\n",
    "me = {'firstName': \"Bob\", 'lastName': \"Jackson\"}\n",
    "print(me[\"firstName\"])\n",
    "\n",
    "# Boolean and condition\n",
    "hungry = False\n",
    "if hungry == False: \n",
    "    print(\"Please offer some food\")\n",
    "else:\n",
    "    print(\"I'm stuffed\")\n",
    "\n",
    "# for loop\n",
    "for i in [0, 1, 2, 3]:\n",
    "    print(i)\n",
    "\n",
    "# funtion\n",
    "def helo(name):\n",
    "    return \"Hello {0}!\".format(name)\n",
    "\n",
    "print(helo(\"Bob\"))\n"
   ]
  },
  {
   "cell_type": "code",
   "execution_count": 10,
   "metadata": {},
   "outputs": [],
   "source": [
    "# class implementation\n",
    "\n",
    "class Fraction:\n",
    "    def __init__(self, numerator, denominator):\n",
    "        self.numerator = numerator\n",
    "        self.denominator = denominator\n",
    "\n",
    "    def __str__(self):\n",
    "        return f\"{self.numerator}/{self.denominator}\"\n",
    "\n",
    "    def __add__(self, other):\n",
    "        if isinstance(other, int):\n",
    "            other = Fraction(other, 1)\n",
    "        num = self.numerator * other.denominator + other.numerator * self.denominator\n",
    "        den = self.denominator * other.denominator\n",
    "        return Fraction(num, den)\n",
    "\n",
    "    def __sub__(self, other):\n",
    "        if isinstance(other, int):\n",
    "            other = Fraction(other, 1)\n",
    "        num = self.numerator * other.denominator - other.numerator * self.denominator\n",
    "        den = self.denominator * other.denominator\n",
    "        return Fraction(num, den)\n",
    "\n",
    "    def __mul__(self, other):\n",
    "        if isinstance(other, int):\n",
    "            other = Fraction(other, 1)\n",
    "        num = self.numerator * other.numerator\n",
    "        den = self.denominator * other.denominator\n",
    "        return Fraction(num, den)\n",
    "\n",
    "    def __truediv__(self, other):\n",
    "        if isinstance(other, int):\n",
    "            other = Fraction(other, 1)\n",
    "        num = self.numerator * other.denominator\n",
    "        den = self.denominator * other.numerator\n",
    "        return Fraction(num, den)\n",
    "\n",
    "    def __eq__(self, other):\n",
    "        if isinstance(other, int):\n",
    "            other = Fraction(other, 1)\n",
    "        return self.numerator * other.denominator == other.numerator * self.denominator\n",
    "\n",
    "    def __lt__(self, other):\n",
    "        if isinstance(other, int):\n",
    "            other = Fraction(other, 1)\n",
    "        return self.numerator * other.denominator < other.numerator * self.denominator\n",
    "\n",
    "    def __le__(self, other):\n",
    "        if isinstance(other, int):\n",
    "            other = Fraction(other, 1)\n",
    "        return self.numerator * other.denominator <= other.numerator * self.denominator\n",
    "\n",
    "    def __gt__(self, other):\n",
    "        if isinstance(other, int):\n",
    "            other = Fraction(other, 1)\n",
    "        return self.numerator * other.denominator > other.numerator\n"
   ]
  },
  {
   "cell_type": "code",
   "execution_count": 14,
   "metadata": {},
   "outputs": [
    {
     "name": "stdout",
     "output_type": "stream",
     "text": [
      "1/3 2/5\n",
      "11/15 -1/15 2/15 False\n"
     ]
    }
   ],
   "source": [
    "# \n",
    "f1 = Fraction(1, 3)\n",
    "f2 = Fraction(2, 5)\n",
    "print(f1, f2)\n",
    "print(f1+f2, f1-f2, f1*f2, f1==f2)\n"
   ]
  },
  {
   "cell_type": "code",
   "execution_count": 30,
   "metadata": {},
   "outputs": [
    {
     "name": "stdout",
     "output_type": "stream",
     "text": [
      "[0.5 1.  1.5]\n",
      "[[0.5 1. ]\n",
      " [1.5 2. ]\n",
      " [2.5 3. ]]\n",
      "(3, 2)\n",
      "the first:seconde dimention:3:2\n",
      "(2,)\n",
      "[[ 10  40]\n",
      " [ 30  80]\n",
      " [ 50 120]]\n",
      "[[ 10  20]\n",
      " [ 60  80]\n",
      " [150 180]]\n",
      "[1 2]\n",
      "[3 4]\n",
      "[5 6]\n"
     ]
    }
   ],
   "source": [
    "# numpy\n",
    "import numpy as np\n",
    "\n",
    "x = np.array([1.0, 2.0, 3.0])\n",
    "print(x/2.0)\n",
    "\n",
    "x = np.array([[1,2], [3,4], [5,6]])\n",
    "print(x/2.0)\n",
    "print(x.shape)\n",
    "row, col = x.shape\n",
    "print(\"the first:seconde dimention:{0}:{1}\".format(x.shape[0], x.shape[1]))\n",
    "\n",
    "y = np.array([10, 20])\n",
    "print(y.shape)\n",
    "print(x*y)\n",
    "\n",
    "z = np.array([[10], [20], [30]])\n",
    "print(x*z)\n",
    "\n",
    "# np中的array并不是行和列的关系，准确的是列和行\n",
    "for i in x:\n",
    "    print(i)\n"
   ]
  }
 ],
 "metadata": {
  "kernelspec": {
   "display_name": "Python 3.7.3 64-bit",
   "language": "python",
   "name": "python3"
  },
  "language_info": {
   "codemirror_mode": {
    "name": "ipython",
    "version": 3
   },
   "file_extension": ".py",
   "mimetype": "text/x-python",
   "name": "python",
   "nbconvert_exporter": "python",
   "pygments_lexer": "ipython3",
   "version": "3.7.3"
  },
  "orig_nbformat": 4,
  "vscode": {
   "interpreter": {
    "hash": "df955ce39d0f31d56d4bb2fe0a613e5326ba60723fd33d8303a3aede8f65715c"
   }
  }
 },
 "nbformat": 4,
 "nbformat_minor": 2
}
